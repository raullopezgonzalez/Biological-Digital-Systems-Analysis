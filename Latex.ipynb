{
 "cells": [
  {
   "cell_type": "markdown",
   "metadata": {},
   "source": [
    "# Big\n",
    "## Smaller\n",
    "### Smaller\n",
    "#### Smallest\n",
    "##### Cursive"
   ]
  },
  {
   "cell_type": "markdown",
   "metadata": {},
   "source": [
    "$$\\quad\n",
    "\\frac{dy}{dx} = \\frac{-2*x*(y-1)}{x^2 -1}\n",
    "$$\n",
    "This has a closed-form solution\n",
    "$$ \\quad\n",
    "y = \\frac{C}{x^2-1} +1\n",
    "$$ \n",
    "The initial condition we have chosen is y(0) = 0\n"
   ]
  },
  {
   "cell_type": "markdown",
   "metadata": {},
   "source": [
    "$$ \\quad\n",
    "C = +/- 1\n",
    "$$ "
   ]
  }
 ],
 "metadata": {
  "kernelspec": {
   "display_name": "Python 3",
   "language": "python",
   "name": "python3"
  },
  "language_info": {
   "codemirror_mode": {
    "name": "ipython",
    "version": 3
   },
   "file_extension": ".py",
   "mimetype": "text/x-python",
   "name": "python",
   "nbconvert_exporter": "python",
   "pygments_lexer": "ipython3",
   "version": "3.7.3"
  }
 },
 "nbformat": 4,
 "nbformat_minor": 2
}
